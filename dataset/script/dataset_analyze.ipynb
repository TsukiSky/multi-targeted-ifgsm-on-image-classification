{
 "cells": [
  {
   "cell_type": "markdown",
   "id": "87ab1f6e59265487",
   "metadata": {
    "collapsed": false
   },
   "source": [
    "# Dataset Analysis\n",
    "1. This script analyzes the dataset we used in the project.\n",
    "2. The dataset is a subset of NIH Chest X-ray dataset. It contains 25000 images of chest x-rays."
   ]
  },
  {
   "cell_type": "code",
   "execution_count": 1,
   "id": "initial_id",
   "metadata": {
    "ExecuteTime": {
     "end_time": "2024-04-13T14:25:25.563554600Z",
     "start_time": "2024-04-13T14:25:20.270029700Z"
    },
    "collapsed": true
   },
   "outputs": [],
   "source": [
    "import sys\n",
    "sys.path.insert(0, '/Users/shihuiluah/Downloads/ShiHui/adversarial-attacks-and-defenses-on-medical-image-classification-models')\n",
    "from dataset.dataset import ChestXrayDataset\n",
    "import matplotlib.pyplot as plt"
   ]
  },
  {
   "cell_type": "code",
   "execution_count": 2,
   "id": "e3656a16aae9ec8d",
   "metadata": {
    "ExecuteTime": {
     "end_time": "2024-04-13T14:25:26.234477Z",
     "start_time": "2024-04-13T14:25:25.563554600Z"
    },
    "collapsed": false
   },
   "outputs": [],
   "source": [
    "dataset = ChestXrayDataset()"
   ]
  },
  {
   "cell_type": "code",
   "execution_count": 3,
   "id": "40d00120fc9e38f7",
   "metadata": {
    "ExecuteTime": {
     "end_time": "2024-04-13T14:25:26.251924300Z",
     "start_time": "2024-04-13T14:25:26.235475400Z"
    },
    "collapsed": false
   },
   "outputs": [
    {
     "name": "stdout",
     "output_type": "stream",
     "text": [
      "Total number of samples:  25000\n"
     ]
    }
   ],
   "source": [
    "# number of samples\n",
    "print(\"Total number of samples: \", len(dataset))"
   ]
  },
  {
   "cell_type": "code",
   "execution_count": 4,
   "id": "bd1035bc9de15056",
   "metadata": {
    "ExecuteTime": {
     "end_time": "2024-04-13T14:25:26.358985400Z",
     "start_time": "2024-04-13T14:25:26.250722600Z"
    },
    "collapsed": false
   },
   "outputs": [
    {
     "name": "stdout",
     "output_type": "stream",
     "text": [
      "Number of classes:  15\n"
     ]
    }
   ],
   "source": [
    "# number of classes\n",
    "print(\"Number of classes: \",len(dataset.get_labels()))"
   ]
  },
  {
   "cell_type": "code",
   "execution_count": 5,
   "id": "c3b9784c0d704307",
   "metadata": {
    "ExecuteTime": {
     "end_time": "2024-04-13T14:25:26.413015200Z",
     "start_time": "2024-04-13T14:25:26.357904100Z"
    },
    "collapsed": false
   },
   "outputs": [
    {
     "name": "stdout",
     "output_type": "stream",
     "text": [
      "Number of samples per class:\n"
     ]
    },
    {
     "data": {
      "text/html": [
       "<div>\n",
       "<style scoped>\n",
       "    .dataframe tbody tr th:only-of-type {\n",
       "        vertical-align: middle;\n",
       "    }\n",
       "\n",
       "    .dataframe tbody tr th {\n",
       "        vertical-align: top;\n",
       "    }\n",
       "\n",
       "    .dataframe thead th {\n",
       "        text-align: right;\n",
       "    }\n",
       "</style>\n",
       "<table border=\"1\" class=\"dataframe\">\n",
       "  <thead>\n",
       "    <tr style=\"text-align: right;\">\n",
       "      <th></th>\n",
       "      <th>Finding Labels</th>\n",
       "      <th>Count</th>\n",
       "    </tr>\n",
       "  </thead>\n",
       "  <tbody>\n",
       "    <tr>\n",
       "      <th>3</th>\n",
       "      <td>No Finding</td>\n",
       "      <td>14597</td>\n",
       "    </tr>\n",
       "    <tr>\n",
       "      <th>5</th>\n",
       "      <td>Infiltration</td>\n",
       "      <td>3714</td>\n",
       "    </tr>\n",
       "    <tr>\n",
       "      <th>2</th>\n",
       "      <td>Effusion</td>\n",
       "      <td>2332</td>\n",
       "    </tr>\n",
       "    <tr>\n",
       "      <th>8</th>\n",
       "      <td>Atelectasis</td>\n",
       "      <td>2271</td>\n",
       "    </tr>\n",
       "    <tr>\n",
       "      <th>7</th>\n",
       "      <td>Nodule</td>\n",
       "      <td>1221</td>\n",
       "    </tr>\n",
       "    <tr>\n",
       "      <th>9</th>\n",
       "      <td>Pneumothorax</td>\n",
       "      <td>951</td>\n",
       "    </tr>\n",
       "    <tr>\n",
       "      <th>14</th>\n",
       "      <td>Consolidation</td>\n",
       "      <td>916</td>\n",
       "    </tr>\n",
       "    <tr>\n",
       "      <th>6</th>\n",
       "      <td>Mass</td>\n",
       "      <td>846</td>\n",
       "    </tr>\n",
       "    <tr>\n",
       "      <th>0</th>\n",
       "      <td>Cardiomegaly</td>\n",
       "      <td>820</td>\n",
       "    </tr>\n",
       "    <tr>\n",
       "      <th>10</th>\n",
       "      <td>Pleural_Thickening</td>\n",
       "      <td>741</td>\n",
       "    </tr>\n",
       "    <tr>\n",
       "      <th>12</th>\n",
       "      <td>Fibrosis</td>\n",
       "      <td>554</td>\n",
       "    </tr>\n",
       "    <tr>\n",
       "      <th>1</th>\n",
       "      <td>Emphysema</td>\n",
       "      <td>476</td>\n",
       "    </tr>\n",
       "    <tr>\n",
       "      <th>13</th>\n",
       "      <td>Edema</td>\n",
       "      <td>349</td>\n",
       "    </tr>\n",
       "    <tr>\n",
       "      <th>11</th>\n",
       "      <td>Pneumonia</td>\n",
       "      <td>288</td>\n",
       "    </tr>\n",
       "    <tr>\n",
       "      <th>4</th>\n",
       "      <td>Hernia</td>\n",
       "      <td>59</td>\n",
       "    </tr>\n",
       "  </tbody>\n",
       "</table>\n",
       "</div>"
      ],
      "text/plain": [
       "        Finding Labels  Count\n",
       "3           No Finding  14597\n",
       "5         Infiltration   3714\n",
       "2             Effusion   2332\n",
       "8          Atelectasis   2271\n",
       "7               Nodule   1221\n",
       "9         Pneumothorax    951\n",
       "14       Consolidation    916\n",
       "6                 Mass    846\n",
       "0         Cardiomegaly    820\n",
       "10  Pleural_Thickening    741\n",
       "12            Fibrosis    554\n",
       "1            Emphysema    476\n",
       "13               Edema    349\n",
       "11           Pneumonia    288\n",
       "4               Hernia     59"
      ]
     },
     "execution_count": 5,
     "metadata": {},
     "output_type": "execute_result"
    }
   ],
   "source": [
    "# number of samples per class\n",
    "print(\"Number of samples per class:\")\n",
    "dataset.get_class_distribution()"
   ]
  },
  {
   "cell_type": "code",
   "execution_count": 19,
   "id": "96ef02e3a1252576",
   "metadata": {
    "ExecuteTime": {
     "end_time": "2024-04-13T17:33:11.735155900Z",
     "start_time": "2024-04-13T17:33:11.029256900Z"
    },
    "collapsed": false
   },
   "outputs": [
    {
     "data": {
      "text/plain": [
       "<Figure size 1000x500 with 0 Axes>"
      ]
     },
     "metadata": {},
     "output_type": "display_data"
    },
    {
     "data": {
      "image/png": "[encoded data removed]",
      "text/plain": [
       "<Figure size 640x480 with 1 Axes>"
      ]
     },
     "metadata": {},
     "output_type": "display_data"
    }
   ],
   "source": [
    "plt.figure(figsize=(10, 5))\n",
    "dataset.get_class_distribution().plot(kind='bar', hatch='\\\\\\\\', color='#FFBE7A', edgecolor='black')\n",
    "plt.title('Dataset Label Distribution')\n",
    "plt.xlabel('Label ID')\n",
    "plt.ylabel('Number of samples')\n",
    "plt.show()"
   ]
  },
  {
   "cell_type": "code",
   "execution_count": null,
   "id": "8851a55c83841a92",
   "metadata": {
    "collapsed": false
   },
   "outputs": [],
   "source": []
  }
 ],
 "metadata": {
  "kernelspec": {
   "display_name": "Python 3",
   "language": "python",
   "name": "python3"
  },
  "language_info": {
   "codemirror_mode": {
    "name": "ipython",
    "version": 3
   },
   "file_extension": ".py",
   "mimetype": "text/x-python",
   "name": "python",
   "nbconvert_exporter": "python",
   "pygments_lexer": "ipython3",
   "version": "3.10.13"
  }
 },
 "nbformat": 4,
 "nbformat_minor": 5
}
