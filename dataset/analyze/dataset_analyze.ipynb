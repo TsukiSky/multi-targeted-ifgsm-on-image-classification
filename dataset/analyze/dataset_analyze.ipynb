{
 "cells": [
  {
   "cell_type": "markdown",
   "source": [
    "# Dataset Analysis\n",
    "1. This script analyzes the dataset we used in the project.\n",
    "2. The dataset is a subset of NIH Chest X-ray dataset. It contains 25000 images of chest x-rays."
   ],
   "metadata": {
    "collapsed": false
   },
   "id": "87ab1f6e59265487"
  },
  {
   "cell_type": "code",
   "execution_count": 11,
   "id": "initial_id",
   "metadata": {
    "collapsed": true,
    "ExecuteTime": {
     "end_time": "2024-03-09T12:15:54.697003500Z",
     "start_time": "2024-03-09T12:15:54.674591Z"
    }
   },
   "outputs": [],
   "source": [
    "from dataset.dataset import ChestXrayDataset\n",
    "import matplotlib.pyplot as plt"
   ]
  },
  {
   "cell_type": "code",
   "execution_count": 12,
   "outputs": [],
   "source": [
    "dataset = ChestXrayDataset()"
   ],
   "metadata": {
    "collapsed": false,
    "ExecuteTime": {
     "end_time": "2024-03-09T12:15:54.969758900Z",
     "start_time": "2024-03-09T12:15:54.812722300Z"
    }
   },
   "id": "e3656a16aae9ec8d"
  },
  {
   "cell_type": "code",
   "execution_count": 13,
   "outputs": [
    {
     "name": "stdout",
     "output_type": "stream",
     "text": [
      "Total number of samples:  25000\n"
     ]
    }
   ],
   "source": [
    "# number of samples\n",
    "print(\"Total number of samples: \", len(dataset))"
   ],
   "metadata": {
    "collapsed": false,
    "ExecuteTime": {
     "end_time": "2024-03-09T12:15:54.981436500Z",
     "start_time": "2024-03-09T12:15:54.969758900Z"
    }
   },
   "id": "40d00120fc9e38f7"
  },
  {
   "cell_type": "code",
   "execution_count": 14,
   "outputs": [
    {
     "name": "stdout",
     "output_type": "stream",
     "text": [
      "Number of classes:  15\n"
     ]
    }
   ],
   "source": [
    "# number of classes\n",
    "print(\"Number of classes: \",len(dataset.get_labels()))"
   ],
   "metadata": {
    "collapsed": false,
    "ExecuteTime": {
     "end_time": "2024-03-09T12:15:55.091754900Z",
     "start_time": "2024-03-09T12:15:55.058423200Z"
    }
   },
   "id": "bd1035bc9de15056"
  },
  {
   "cell_type": "code",
   "execution_count": 15,
   "outputs": [
    {
     "name": "stdout",
     "output_type": "stream",
     "text": [
      "Number of samples per class:\n"
     ]
    },
    {
     "data": {
      "text/plain": "        Finding Labels  Count\n3           No Finding  14597\n5         Infiltration   3714\n2             Effusion   2332\n8          Atelectasis   2271\n7               Nodule   1221\n9         Pneumothorax    951\n14       Consolidation    916\n6                 Mass    846\n0         Cardiomegaly    820\n10  Pleural_Thickening    741\n12            Fibrosis    554\n1            Emphysema    476\n13               Edema    349\n11           Pneumonia    288\n4               Hernia     59",
      "text/html": "<div>\n<style scoped>\n    .dataframe tbody tr th:only-of-type {\n        vertical-align: middle;\n    }\n\n    .dataframe tbody tr th {\n        vertical-align: top;\n    }\n\n    .dataframe thead th {\n        text-align: right;\n    }\n</style>\n<table border=\"1\" class=\"dataframe\">\n  <thead>\n    <tr style=\"text-align: right;\">\n      <th></th>\n      <th>Finding Labels</th>\n      <th>Count</th>\n    </tr>\n  </thead>\n  <tbody>\n    <tr>\n      <th>3</th>\n      <td>No Finding</td>\n      <td>14597</td>\n    </tr>\n    <tr>\n      <th>5</th>\n      <td>Infiltration</td>\n      <td>3714</td>\n    </tr>\n    <tr>\n      <th>2</th>\n      <td>Effusion</td>\n      <td>2332</td>\n    </tr>\n    <tr>\n      <th>8</th>\n      <td>Atelectasis</td>\n      <td>2271</td>\n    </tr>\n    <tr>\n      <th>7</th>\n      <td>Nodule</td>\n      <td>1221</td>\n    </tr>\n    <tr>\n      <th>9</th>\n      <td>Pneumothorax</td>\n      <td>951</td>\n    </tr>\n    <tr>\n      <th>14</th>\n      <td>Consolidation</td>\n      <td>916</td>\n    </tr>\n    <tr>\n      <th>6</th>\n      <td>Mass</td>\n      <td>846</td>\n    </tr>\n    <tr>\n      <th>0</th>\n      <td>Cardiomegaly</td>\n      <td>820</td>\n    </tr>\n    <tr>\n      <th>10</th>\n      <td>Pleural_Thickening</td>\n      <td>741</td>\n    </tr>\n    <tr>\n      <th>12</th>\n      <td>Fibrosis</td>\n      <td>554</td>\n    </tr>\n    <tr>\n      <th>1</th>\n      <td>Emphysema</td>\n      <td>476</td>\n    </tr>\n    <tr>\n      <th>13</th>\n      <td>Edema</td>\n      <td>349</td>\n    </tr>\n    <tr>\n      <th>11</th>\n      <td>Pneumonia</td>\n      <td>288</td>\n    </tr>\n    <tr>\n      <th>4</th>\n      <td>Hernia</td>\n      <td>59</td>\n    </tr>\n  </tbody>\n</table>\n</div>"
     },
     "execution_count": 15,
     "metadata": {},
     "output_type": "execute_result"
    }
   ],
   "source": [
    "# number of samples per class\n",
    "print(\"Number of samples per class:\")\n",
    "dataset.get_class_distribution()"
   ],
   "metadata": {
    "collapsed": false,
    "ExecuteTime": {
     "end_time": "2024-03-09T12:15:55.250416700Z",
     "start_time": "2024-03-09T12:15:55.162205700Z"
    }
   },
   "id": "c3b9784c0d704307"
  },
  {
   "cell_type": "code",
   "execution_count": 16,
   "outputs": [
    {
     "data": {
      "text/plain": "<Figure size 1000x500 with 0 Axes>"
     },
     "metadata": {},
     "output_type": "display_data"
    },
    {
     "data": {
      "text/plain": "<Figure size 640x480 with 1 Axes>",
      "image/png": "[encoded data removed]"
     },
     "metadata": {},
     "output_type": "display_data"
    }
   ],
   "source": [
    "plt.figure(figsize=(10, 5))\n",
    "dataset.get_class_distribution().plot(kind='bar')\n",
    "plt.title('Class Distribution')\n",
    "plt.xlabel('Class')\n",
    "plt.ylabel('Number of samples')\n",
    "plt.show()"
   ],
   "metadata": {
    "collapsed": false,
    "ExecuteTime": {
     "end_time": "2024-03-09T12:15:55.580609600Z",
     "start_time": "2024-03-09T12:15:55.443647100Z"
    }
   },
   "id": "96ef02e3a1252576"
  },
  {
   "cell_type": "code",
   "execution_count": null,
   "outputs": [],
   "source": [],
   "metadata": {
    "collapsed": false
   },
   "id": "8851a55c83841a92"
  }
 ],
 "metadata": {
  "kernelspec": {
   "display_name": "Python 3",
   "language": "python",
   "name": "python3"
  },
  "language_info": {
   "codemirror_mode": {
    "name": "ipython",
    "version": 2
   },
   "file_extension": ".py",
   "mimetype": "text/x-python",
   "name": "python",
   "nbconvert_exporter": "python",
   "pygments_lexer": "ipython2",
   "version": "2.7.6"
  }
 },
 "nbformat": 4,
 "nbformat_minor": 5
}
